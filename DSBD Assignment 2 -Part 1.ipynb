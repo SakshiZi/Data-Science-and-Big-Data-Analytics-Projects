{
 "cells": [
  {
   "cell_type": "markdown",
   "id": "660eeee6",
   "metadata": {},
   "source": [
    "# Assignment 2"
   ]
  },
  {
   "cell_type": "code",
   "execution_count": 2,
   "id": "f1f81dd6",
   "metadata": {},
   "outputs": [
    {
     "data": {
      "text/html": [
       "<div>\n",
       "<style scoped>\n",
       "    .dataframe tbody tr th:only-of-type {\n",
       "        vertical-align: middle;\n",
       "    }\n",
       "\n",
       "    .dataframe tbody tr th {\n",
       "        vertical-align: top;\n",
       "    }\n",
       "\n",
       "    .dataframe thead th {\n",
       "        text-align: right;\n",
       "    }\n",
       "</style>\n",
       "<table border=\"1\" class=\"dataframe\">\n",
       "  <thead>\n",
       "    <tr style=\"text-align: right;\">\n",
       "      <th></th>\n",
       "      <th>flag</th>\n",
       "      <th>gender</th>\n",
       "      <th>education</th>\n",
       "      <th>house_val</th>\n",
       "      <th>age</th>\n",
       "      <th>online</th>\n",
       "      <th>customer_psy</th>\n",
       "      <th>occupation</th>\n",
       "      <th>mortgage</th>\n",
       "      <th>region</th>\n",
       "      <th>car_prob</th>\n",
       "      <th>fam_income</th>\n",
       "    </tr>\n",
       "  </thead>\n",
       "  <tbody>\n",
       "    <tr>\n",
       "      <th>0</th>\n",
       "      <td>Y</td>\n",
       "      <td>M</td>\n",
       "      <td>4. Grad</td>\n",
       "      <td>75646.0</td>\n",
       "      <td>1_Unk</td>\n",
       "      <td>N</td>\n",
       "      <td>B</td>\n",
       "      <td>Professional</td>\n",
       "      <td>1Low</td>\n",
       "      <td>Midwest</td>\n",
       "      <td>1.0</td>\n",
       "      <td>L</td>\n",
       "    </tr>\n",
       "    <tr>\n",
       "      <th>1</th>\n",
       "      <td>N</td>\n",
       "      <td>F</td>\n",
       "      <td>3. Bach</td>\n",
       "      <td>213171.0</td>\n",
       "      <td>7_&gt;65</td>\n",
       "      <td>N</td>\n",
       "      <td>E</td>\n",
       "      <td>Professional</td>\n",
       "      <td>1Low</td>\n",
       "      <td>Northeast</td>\n",
       "      <td>3.0</td>\n",
       "      <td>G</td>\n",
       "    </tr>\n",
       "    <tr>\n",
       "      <th>2</th>\n",
       "      <td>N</td>\n",
       "      <td>M</td>\n",
       "      <td>2. Some College</td>\n",
       "      <td>111147.0</td>\n",
       "      <td>2_&lt;=25</td>\n",
       "      <td>Y</td>\n",
       "      <td>C</td>\n",
       "      <td>Professional</td>\n",
       "      <td>1Low</td>\n",
       "      <td>Midwest</td>\n",
       "      <td>1.0</td>\n",
       "      <td>J</td>\n",
       "    </tr>\n",
       "    <tr>\n",
       "      <th>3</th>\n",
       "      <td>Y</td>\n",
       "      <td>M</td>\n",
       "      <td>2. Some College</td>\n",
       "      <td>354151.0</td>\n",
       "      <td>2_&lt;=25</td>\n",
       "      <td>Y</td>\n",
       "      <td>B</td>\n",
       "      <td>Sales/Service</td>\n",
       "      <td>1Low</td>\n",
       "      <td>West</td>\n",
       "      <td>2.0</td>\n",
       "      <td>L</td>\n",
       "    </tr>\n",
       "    <tr>\n",
       "      <th>4</th>\n",
       "      <td>Y</td>\n",
       "      <td>F</td>\n",
       "      <td>2. Some College</td>\n",
       "      <td>11787.0</td>\n",
       "      <td>1_Unk</td>\n",
       "      <td>Y</td>\n",
       "      <td>J</td>\n",
       "      <td>Sales/Service</td>\n",
       "      <td>1Low</td>\n",
       "      <td>South</td>\n",
       "      <td>7.0</td>\n",
       "      <td>H</td>\n",
       "    </tr>\n",
       "  </tbody>\n",
       "</table>\n",
       "</div>"
      ],
      "text/plain": [
       "  flag gender        education  house_val     age online customer_psy  \\\n",
       "0    Y      M          4. Grad    75646.0   1_Unk      N            B   \n",
       "1    N      F          3. Bach   213171.0   7_>65      N            E   \n",
       "2    N      M  2. Some College   111147.0  2_<=25      Y            C   \n",
       "3    Y      M  2. Some College   354151.0  2_<=25      Y            B   \n",
       "4    Y      F  2. Some College    11787.0   1_Unk      Y            J   \n",
       "\n",
       "      occupation mortgage     region  car_prob fam_income  \n",
       "0   Professional     1Low    Midwest       1.0          L  \n",
       "1   Professional     1Low  Northeast       3.0          G  \n",
       "2   Professional     1Low    Midwest       1.0          J  \n",
       "3  Sales/Service     1Low       West       2.0          L  \n",
       "4  Sales/Service     1Low      South       7.0          H  "
      ]
     },
     "execution_count": 2,
     "metadata": {},
     "output_type": "execute_result"
    }
   ],
   "source": [
    "import pandas as pd\n",
    "import numpy as np\n",
    "df = pd.read_csv(\"C:\\\\Users\\\\pjanh\\\\Desktop\\\\sales_data.csv\")\n",
    "df.head()"
   ]
  },
  {
   "cell_type": "markdown",
   "id": "57b5b812",
   "metadata": {},
   "source": [
    "1.Importing all the necessary libraries.\n",
    "2.Load the date file in df using \"read_csv\""
   ]
  },
  {
   "cell_type": "code",
   "execution_count": 3,
   "id": "949afc76",
   "metadata": {},
   "outputs": [
    {
     "data": {
      "text/plain": [
       "(40000, 12)"
      ]
     },
     "execution_count": 3,
     "metadata": {},
     "output_type": "execute_result"
    }
   ],
   "source": [
    "df.shape"
   ]
  },
  {
   "cell_type": "markdown",
   "id": "2c2f8314",
   "metadata": {},
   "source": [
    "Shows the dimensions of dataframe (rows,columns)"
   ]
  },
  {
   "cell_type": "code",
   "execution_count": 4,
   "id": "0276fce8",
   "metadata": {},
   "outputs": [
    {
     "data": {
      "text/plain": [
       "Index(['flag', 'gender', 'education', 'house_val', 'age', 'online',\n",
       "       'customer_psy', 'occupation', 'mortgage', 'region', 'car_prob',\n",
       "       'fam_income'],\n",
       "      dtype='object')"
      ]
     },
     "execution_count": 4,
     "metadata": {},
     "output_type": "execute_result"
    }
   ],
   "source": [
    "df.columns"
   ]
  },
  {
   "cell_type": "markdown",
   "id": "b32de747",
   "metadata": {},
   "source": [
    "Gives the list of columns in dataframe"
   ]
  },
  {
   "cell_type": "code",
   "execution_count": 5,
   "id": "6863e604",
   "metadata": {},
   "outputs": [
    {
     "data": {
      "text/plain": [
       "flag               0\n",
       "gender             0\n",
       "education        741\n",
       "house_val       7696\n",
       "age                0\n",
       "online             0\n",
       "customer_psy       0\n",
       "occupation         0\n",
       "mortgage           0\n",
       "region             0\n",
       "car_prob         127\n",
       "fam_income         0\n",
       "dtype: int64"
      ]
     },
     "execution_count": 5,
     "metadata": {},
     "output_type": "execute_result"
    }
   ],
   "source": [
    "df.isnull().sum()"
   ]
  },
  {
   "cell_type": "markdown",
   "id": "c81a2af5",
   "metadata": {},
   "source": [
    "Returns the number of missing values in the data set."
   ]
  },
  {
   "cell_type": "code",
   "execution_count": 6,
   "id": "ea2096e0",
   "metadata": {
    "scrolled": true
   },
   "outputs": [
    {
     "data": {
      "text/html": [
       "<div>\n",
       "<style scoped>\n",
       "    .dataframe tbody tr th:only-of-type {\n",
       "        vertical-align: middle;\n",
       "    }\n",
       "\n",
       "    .dataframe tbody tr th {\n",
       "        vertical-align: top;\n",
       "    }\n",
       "\n",
       "    .dataframe thead th {\n",
       "        text-align: right;\n",
       "    }\n",
       "</style>\n",
       "<table border=\"1\" class=\"dataframe\">\n",
       "  <thead>\n",
       "    <tr style=\"text-align: right;\">\n",
       "      <th></th>\n",
       "      <th>house_val</th>\n",
       "      <th>car_prob</th>\n",
       "    </tr>\n",
       "  </thead>\n",
       "  <tbody>\n",
       "    <tr>\n",
       "      <th>count</th>\n",
       "      <td>3.230400e+04</td>\n",
       "      <td>39873.000000</td>\n",
       "    </tr>\n",
       "    <tr>\n",
       "      <th>mean</th>\n",
       "      <td>1.993657e+05</td>\n",
       "      <td>3.502270</td>\n",
       "    </tr>\n",
       "    <tr>\n",
       "      <th>std</th>\n",
       "      <td>3.429706e+05</td>\n",
       "      <td>2.574268</td>\n",
       "    </tr>\n",
       "    <tr>\n",
       "      <th>min</th>\n",
       "      <td>1.000000e+00</td>\n",
       "      <td>1.000000</td>\n",
       "    </tr>\n",
       "    <tr>\n",
       "      <th>25%</th>\n",
       "      <td>1.936500e+04</td>\n",
       "      <td>1.000000</td>\n",
       "    </tr>\n",
       "    <tr>\n",
       "      <th>50%</th>\n",
       "      <td>7.782600e+04</td>\n",
       "      <td>3.000000</td>\n",
       "    </tr>\n",
       "    <tr>\n",
       "      <th>75%</th>\n",
       "      <td>2.696110e+05</td>\n",
       "      <td>5.000000</td>\n",
       "    </tr>\n",
       "    <tr>\n",
       "      <th>max</th>\n",
       "      <td>9.999999e+06</td>\n",
       "      <td>9.000000</td>\n",
       "    </tr>\n",
       "  </tbody>\n",
       "</table>\n",
       "</div>"
      ],
      "text/plain": [
       "          house_val      car_prob\n",
       "count  3.230400e+04  39873.000000\n",
       "mean   1.993657e+05      3.502270\n",
       "std    3.429706e+05      2.574268\n",
       "min    1.000000e+00      1.000000\n",
       "25%    1.936500e+04      1.000000\n",
       "50%    7.782600e+04      3.000000\n",
       "75%    2.696110e+05      5.000000\n",
       "max    9.999999e+06      9.000000"
      ]
     },
     "execution_count": 6,
     "metadata": {},
     "output_type": "execute_result"
    }
   ],
   "source": [
    "df.describe()"
   ]
  },
  {
   "cell_type": "markdown",
   "id": "e98c6fc7",
   "metadata": {},
   "source": [
    "used to view some basic statistical details"
   ]
  },
  {
   "cell_type": "code",
   "execution_count": 7,
   "id": "b4bbd99b",
   "metadata": {},
   "outputs": [
    {
     "data": {
      "text/plain": [
       "flag             object\n",
       "gender           object\n",
       "education        object\n",
       "house_val       float64\n",
       "age              object\n",
       "online           object\n",
       "customer_psy     object\n",
       "occupation       object\n",
       "mortgage         object\n",
       "region           object\n",
       "car_prob        float64\n",
       "fam_income       object\n",
       "dtype: object"
      ]
     },
     "execution_count": 7,
     "metadata": {},
     "output_type": "execute_result"
    }
   ],
   "source": [
    "df.dtypes"
   ]
  },
  {
   "cell_type": "markdown",
   "id": "90486a8a",
   "metadata": {},
   "source": [
    "checks the data type of all columns"
   ]
  },
  {
   "cell_type": "code",
   "execution_count": 8,
   "id": "bd80dd5a",
   "metadata": {},
   "outputs": [
    {
     "data": {
      "text/html": [
       "<style type=\"text/css\">\n",
       "#T_1b1e0_row0_col0 {\n",
       "  background-color: #6baed6;\n",
       "  color: #f1f1f1;\n",
       "}\n",
       "#T_1b1e0_row1_col0 {\n",
       "  background-color: #d9d9d9;\n",
       "  color: #000000;\n",
       "}\n",
       "#T_1b1e0_row2_col0 {\n",
       "  background-color: #3182bd;\n",
       "  color: #f1f1f1;\n",
       "}\n",
       "</style>\n",
       "<table id=\"T_1b1e0_\">\n",
       "  <thead>\n",
       "    <tr>\n",
       "      <th class=\"blank level0\" >&nbsp;</th>\n",
       "      <th class=\"col_heading level0 col0\" >Null values count</th>\n",
       "    </tr>\n",
       "  </thead>\n",
       "  <tbody>\n",
       "    <tr>\n",
       "      <th id=\"T_1b1e0_level0_row0\" class=\"row_heading level0 row0\" >education</th>\n",
       "      <td id=\"T_1b1e0_row0_col0\" class=\"data row0 col0\" >741</td>\n",
       "    </tr>\n",
       "    <tr>\n",
       "      <th id=\"T_1b1e0_level0_row1\" class=\"row_heading level0 row1\" >house_val</th>\n",
       "      <td id=\"T_1b1e0_row1_col0\" class=\"data row1 col0\" >7696</td>\n",
       "    </tr>\n",
       "    <tr>\n",
       "      <th id=\"T_1b1e0_level0_row2\" class=\"row_heading level0 row2\" >car_prob</th>\n",
       "      <td id=\"T_1b1e0_row2_col0\" class=\"data row2 col0\" >127</td>\n",
       "    </tr>\n",
       "  </tbody>\n",
       "</table>\n"
      ],
      "text/plain": [
       "<pandas.io.formats.style.Styler at 0x1cc9fcaf4c0>"
      ]
     },
     "execution_count": 8,
     "metadata": {},
     "output_type": "execute_result"
    }
   ],
   "source": [
    "missing_columns = [col for col in df.columns if df[col].isnull().any()]\n",
    "missingvalues_count = df.isna().sum()\n",
    "missingvalues_df = pd.DataFrame (missingvalues_count.rename('Null values count')).loc[missingvalues_count.ne(0)]\n",
    "missingvalues_df.style.background_gradient(cmap=\"tab20c\")"
   ]
  },
  {
   "cell_type": "markdown",
   "id": "b5ffa58a",
   "metadata": {},
   "source": [
    "shows the columns with missing values"
   ]
  },
  {
   "cell_type": "markdown",
   "id": "b69770ee",
   "metadata": {},
   "source": [
    "# Filling the missing values"
   ]
  },
  {
   "cell_type": "code",
   "execution_count": 9,
   "id": "4484941a",
   "metadata": {},
   "outputs": [
    {
     "data": {
      "text/plain": [
       "flag            0\n",
       "gender          0\n",
       "education       0\n",
       "house_val       0\n",
       "age             0\n",
       "online          0\n",
       "customer_psy    0\n",
       "occupation      0\n",
       "mortgage        0\n",
       "region          0\n",
       "car_prob        0\n",
       "fam_income      0\n",
       "dtype: int64"
      ]
     },
     "execution_count": 9,
     "metadata": {},
     "output_type": "execute_result"
    }
   ],
   "source": [
    "df['education'] = df['education'].replace(np.nan,df['education'].mode()[0])\n",
    "df['house_val'] = df['house_val'].replace(np.nan,df['house_val'].mean())\n",
    "df['car_prob'] = df['car_prob'].replace(np.nan,df['car_prob'].mode()[0])\n",
    "df.isnull().sum()"
   ]
  },
  {
   "cell_type": "markdown",
   "id": "c78aca46",
   "metadata": {},
   "source": [
    "1) missing values in 'education' filled with mode of value in 'education'\n",
    "2) missing values in 'house_val' filled with mean of value in 'house_val'\n",
    "3) missing values in 'car_prob' filled with mode of value in 'car_prob'"
   ]
  },
  {
   "cell_type": "markdown",
   "id": "6a5b34ce",
   "metadata": {},
   "source": [
    "# Detect and remove outliers"
   ]
  },
  {
   "cell_type": "markdown",
   "id": "2fc9c348",
   "metadata": {},
   "source": [
    "What is an Outlier?\n",
    "\n",
    "An outlier is a data point in a data set that is distant from all other observation."
   ]
  },
  {
   "cell_type": "code",
   "execution_count": 10,
   "id": "addb3829",
   "metadata": {},
   "outputs": [
    {
     "data": {
      "text/plain": [
       "<AxesSubplot:xlabel='house_val', ylabel='Density'>"
      ]
     },
     "execution_count": 10,
     "metadata": {},
     "output_type": "execute_result"
    },
    {
     "data": {
      "image/png": "[encoded data removed]",
      "text/plain": [
       "<Figure size 1152x360 with 1 Axes>"
      ]
     },
     "metadata": {
      "needs_background": "light"
     },
     "output_type": "display_data"
    }
   ],
   "source": [
    "import warnings\n",
    "warnings.filterwarnings('ignore')\n",
    "plt.figure(figsize=(16,5))\n",
    "plt.subplot(1,2,1)\n",
    "sns.distplot(df['house_val'])"
   ]
  },
  {
   "cell_type": "code",
   "execution_count": 11,
   "id": "3c642dd8",
   "metadata": {},
   "outputs": [
    {
     "name": "stdout",
     "output_type": "stream",
     "text": [
      "Highest allowed 1124010.783196662\n",
      "Lowest allowed -725279.4104873977\n"
     ]
    }
   ],
   "source": [
    "print(\"Highest allowed\",df['house_val'].mean() + 3*df['house_val'].std())\n",
    "print(\"Lowest allowed\",df['house_val'].mean() - 3*df['house_val'].std())"
   ]
  },
  {
   "cell_type": "markdown",
   "id": "df28cee4",
   "metadata": {},
   "source": [
    "Finding the highest and lowest allowed values"
   ]
  },
  {
   "cell_type": "code",
   "execution_count": 12,
   "id": "4909b0e4",
   "metadata": {},
   "outputs": [
    {
     "data": {
      "text/html": [
       "<div>\n",
       "<style scoped>\n",
       "    .dataframe tbody tr th:only-of-type {\n",
       "        vertical-align: middle;\n",
       "    }\n",
       "\n",
       "    .dataframe tbody tr th {\n",
       "        vertical-align: top;\n",
       "    }\n",
       "\n",
       "    .dataframe thead th {\n",
       "        text-align: right;\n",
       "    }\n",
       "</style>\n",
       "<table border=\"1\" class=\"dataframe\">\n",
       "  <thead>\n",
       "    <tr style=\"text-align: right;\">\n",
       "      <th></th>\n",
       "      <th>flag</th>\n",
       "      <th>gender</th>\n",
       "      <th>education</th>\n",
       "      <th>house_val</th>\n",
       "      <th>age</th>\n",
       "      <th>online</th>\n",
       "      <th>customer_psy</th>\n",
       "      <th>occupation</th>\n",
       "      <th>mortgage</th>\n",
       "      <th>region</th>\n",
       "      <th>car_prob</th>\n",
       "      <th>fam_income</th>\n",
       "    </tr>\n",
       "  </thead>\n",
       "  <tbody>\n",
       "    <tr>\n",
       "      <th>34</th>\n",
       "      <td>Y</td>\n",
       "      <td>M</td>\n",
       "      <td>2. Some College</td>\n",
       "      <td>1151448.0</td>\n",
       "      <td>3_&lt;=35</td>\n",
       "      <td>N</td>\n",
       "      <td>B</td>\n",
       "      <td>Professional</td>\n",
       "      <td>2Med</td>\n",
       "      <td>South</td>\n",
       "      <td>1.0</td>\n",
       "      <td>F</td>\n",
       "    </tr>\n",
       "    <tr>\n",
       "      <th>63</th>\n",
       "      <td>Y</td>\n",
       "      <td>M</td>\n",
       "      <td>3. Bach</td>\n",
       "      <td>1383733.0</td>\n",
       "      <td>6_&lt;=65</td>\n",
       "      <td>Y</td>\n",
       "      <td>B</td>\n",
       "      <td>Professional</td>\n",
       "      <td>1Low</td>\n",
       "      <td>South</td>\n",
       "      <td>1.0</td>\n",
       "      <td>K</td>\n",
       "    </tr>\n",
       "    <tr>\n",
       "      <th>165</th>\n",
       "      <td>Y</td>\n",
       "      <td>M</td>\n",
       "      <td>4. Grad</td>\n",
       "      <td>1856444.0</td>\n",
       "      <td>5_&lt;=55</td>\n",
       "      <td>Y</td>\n",
       "      <td>C</td>\n",
       "      <td>Professional</td>\n",
       "      <td>1Low</td>\n",
       "      <td>West</td>\n",
       "      <td>6.0</td>\n",
       "      <td>K</td>\n",
       "    </tr>\n",
       "    <tr>\n",
       "      <th>195</th>\n",
       "      <td>Y</td>\n",
       "      <td>M</td>\n",
       "      <td>2. Some College</td>\n",
       "      <td>1256225.0</td>\n",
       "      <td>1_Unk</td>\n",
       "      <td>Y</td>\n",
       "      <td>B</td>\n",
       "      <td>Sales/Service</td>\n",
       "      <td>3High</td>\n",
       "      <td>West</td>\n",
       "      <td>1.0</td>\n",
       "      <td>L</td>\n",
       "    </tr>\n",
       "    <tr>\n",
       "      <th>363</th>\n",
       "      <td>Y</td>\n",
       "      <td>M</td>\n",
       "      <td>2. Some College</td>\n",
       "      <td>1552846.0</td>\n",
       "      <td>1_Unk</td>\n",
       "      <td>Y</td>\n",
       "      <td>B</td>\n",
       "      <td>Others</td>\n",
       "      <td>3High</td>\n",
       "      <td>South</td>\n",
       "      <td>1.0</td>\n",
       "      <td>L</td>\n",
       "    </tr>\n",
       "    <tr>\n",
       "      <th>...</th>\n",
       "      <td>...</td>\n",
       "      <td>...</td>\n",
       "      <td>...</td>\n",
       "      <td>...</td>\n",
       "      <td>...</td>\n",
       "      <td>...</td>\n",
       "      <td>...</td>\n",
       "      <td>...</td>\n",
       "      <td>...</td>\n",
       "      <td>...</td>\n",
       "      <td>...</td>\n",
       "      <td>...</td>\n",
       "    </tr>\n",
       "    <tr>\n",
       "      <th>39205</th>\n",
       "      <td>Y</td>\n",
       "      <td>M</td>\n",
       "      <td>2. Some College</td>\n",
       "      <td>2792122.0</td>\n",
       "      <td>4_&lt;=45</td>\n",
       "      <td>Y</td>\n",
       "      <td>C</td>\n",
       "      <td>Professional</td>\n",
       "      <td>3High</td>\n",
       "      <td>West</td>\n",
       "      <td>1.0</td>\n",
       "      <td>J</td>\n",
       "    </tr>\n",
       "    <tr>\n",
       "      <th>39436</th>\n",
       "      <td>Y</td>\n",
       "      <td>M</td>\n",
       "      <td>3. Bach</td>\n",
       "      <td>1185375.0</td>\n",
       "      <td>1_Unk</td>\n",
       "      <td>Y</td>\n",
       "      <td>B</td>\n",
       "      <td>Professional</td>\n",
       "      <td>3High</td>\n",
       "      <td>South</td>\n",
       "      <td>1.0</td>\n",
       "      <td>L</td>\n",
       "    </tr>\n",
       "    <tr>\n",
       "      <th>39604</th>\n",
       "      <td>N</td>\n",
       "      <td>F</td>\n",
       "      <td>3. Bach</td>\n",
       "      <td>1197692.0</td>\n",
       "      <td>4_&lt;=45</td>\n",
       "      <td>Y</td>\n",
       "      <td>C</td>\n",
       "      <td>Professional</td>\n",
       "      <td>3High</td>\n",
       "      <td>West</td>\n",
       "      <td>1.0</td>\n",
       "      <td>H</td>\n",
       "    </tr>\n",
       "    <tr>\n",
       "      <th>39799</th>\n",
       "      <td>Y</td>\n",
       "      <td>M</td>\n",
       "      <td>3. Bach</td>\n",
       "      <td>1547255.0</td>\n",
       "      <td>5_&lt;=55</td>\n",
       "      <td>Y</td>\n",
       "      <td>B</td>\n",
       "      <td>Professional</td>\n",
       "      <td>1Low</td>\n",
       "      <td>Northeast</td>\n",
       "      <td>1.0</td>\n",
       "      <td>L</td>\n",
       "    </tr>\n",
       "    <tr>\n",
       "      <th>39948</th>\n",
       "      <td>Y</td>\n",
       "      <td>M</td>\n",
       "      <td>3. Bach</td>\n",
       "      <td>1293557.0</td>\n",
       "      <td>6_&lt;=65</td>\n",
       "      <td>Y</td>\n",
       "      <td>B</td>\n",
       "      <td>Professional</td>\n",
       "      <td>3High</td>\n",
       "      <td>Northeast</td>\n",
       "      <td>1.0</td>\n",
       "      <td>L</td>\n",
       "    </tr>\n",
       "  </tbody>\n",
       "</table>\n",
       "<p>580 rows × 12 columns</p>\n",
       "</div>"
      ],
      "text/plain": [
       "      flag gender        education  house_val     age online customer_psy  \\\n",
       "34       Y      M  2. Some College  1151448.0  3_<=35      N            B   \n",
       "63       Y      M          3. Bach  1383733.0  6_<=65      Y            B   \n",
       "165      Y      M          4. Grad  1856444.0  5_<=55      Y            C   \n",
       "195      Y      M  2. Some College  1256225.0   1_Unk      Y            B   \n",
       "363      Y      M  2. Some College  1552846.0   1_Unk      Y            B   \n",
       "...    ...    ...              ...        ...     ...    ...          ...   \n",
       "39205    Y      M  2. Some College  2792122.0  4_<=45      Y            C   \n",
       "39436    Y      M          3. Bach  1185375.0   1_Unk      Y            B   \n",
       "39604    N      F          3. Bach  1197692.0  4_<=45      Y            C   \n",
       "39799    Y      M          3. Bach  1547255.0  5_<=55      Y            B   \n",
       "39948    Y      M          3. Bach  1293557.0  6_<=65      Y            B   \n",
       "\n",
       "          occupation mortgage     region  car_prob fam_income  \n",
       "34      Professional     2Med      South       1.0          F  \n",
       "63      Professional     1Low      South       1.0          K  \n",
       "165     Professional     1Low       West       6.0          K  \n",
       "195    Sales/Service    3High       West       1.0          L  \n",
       "363           Others    3High      South       1.0          L  \n",
       "...              ...      ...        ...       ...        ...  \n",
       "39205   Professional    3High       West       1.0          J  \n",
       "39436   Professional    3High      South       1.0          L  \n",
       "39604   Professional    3High       West       1.0          H  \n",
       "39799   Professional     1Low  Northeast       1.0          L  \n",
       "39948   Professional    3High  Northeast       1.0          L  \n",
       "\n",
       "[580 rows x 12 columns]"
      ]
     },
     "execution_count": 12,
     "metadata": {},
     "output_type": "execute_result"
    }
   ],
   "source": [
    "df[(df['house_val'] > 1124010.78) | (df['house_val'] < -725279.41)]"
   ]
  },
  {
   "cell_type": "markdown",
   "id": "df393101",
   "metadata": {},
   "source": [
    "Showing the outliers."
   ]
  },
  {
   "cell_type": "markdown",
   "id": "23782592",
   "metadata": {},
   "source": [
    "# Trimming of Outliers\n",
    "\n",
    "Creating a new df and storing the values except outliers in it."
   ]
  },
  {
   "cell_type": "code",
   "execution_count": 13,
   "id": "ee5d7108",
   "metadata": {},
   "outputs": [
    {
     "data": {
      "text/html": [
       "<div>\n",
       "<style scoped>\n",
       "    .dataframe tbody tr th:only-of-type {\n",
       "        vertical-align: middle;\n",
       "    }\n",
       "\n",
       "    .dataframe tbody tr th {\n",
       "        vertical-align: top;\n",
       "    }\n",
       "\n",
       "    .dataframe thead th {\n",
       "        text-align: right;\n",
       "    }\n",
       "</style>\n",
       "<table border=\"1\" class=\"dataframe\">\n",
       "  <thead>\n",
       "    <tr style=\"text-align: right;\">\n",
       "      <th></th>\n",
       "      <th>flag</th>\n",
       "      <th>gender</th>\n",
       "      <th>education</th>\n",
       "      <th>house_val</th>\n",
       "      <th>age</th>\n",
       "      <th>online</th>\n",
       "      <th>customer_psy</th>\n",
       "      <th>occupation</th>\n",
       "      <th>mortgage</th>\n",
       "      <th>region</th>\n",
       "      <th>car_prob</th>\n",
       "      <th>fam_income</th>\n",
       "    </tr>\n",
       "  </thead>\n",
       "  <tbody>\n",
       "    <tr>\n",
       "      <th>0</th>\n",
       "      <td>Y</td>\n",
       "      <td>M</td>\n",
       "      <td>4. Grad</td>\n",
       "      <td>75646.000000</td>\n",
       "      <td>1_Unk</td>\n",
       "      <td>N</td>\n",
       "      <td>B</td>\n",
       "      <td>Professional</td>\n",
       "      <td>1Low</td>\n",
       "      <td>Midwest</td>\n",
       "      <td>1.0</td>\n",
       "      <td>L</td>\n",
       "    </tr>\n",
       "    <tr>\n",
       "      <th>1</th>\n",
       "      <td>N</td>\n",
       "      <td>F</td>\n",
       "      <td>3. Bach</td>\n",
       "      <td>213171.000000</td>\n",
       "      <td>7_&gt;65</td>\n",
       "      <td>N</td>\n",
       "      <td>E</td>\n",
       "      <td>Professional</td>\n",
       "      <td>1Low</td>\n",
       "      <td>Northeast</td>\n",
       "      <td>3.0</td>\n",
       "      <td>G</td>\n",
       "    </tr>\n",
       "    <tr>\n",
       "      <th>2</th>\n",
       "      <td>N</td>\n",
       "      <td>M</td>\n",
       "      <td>2. Some College</td>\n",
       "      <td>111147.000000</td>\n",
       "      <td>2_&lt;=25</td>\n",
       "      <td>Y</td>\n",
       "      <td>C</td>\n",
       "      <td>Professional</td>\n",
       "      <td>1Low</td>\n",
       "      <td>Midwest</td>\n",
       "      <td>1.0</td>\n",
       "      <td>J</td>\n",
       "    </tr>\n",
       "    <tr>\n",
       "      <th>3</th>\n",
       "      <td>Y</td>\n",
       "      <td>M</td>\n",
       "      <td>2. Some College</td>\n",
       "      <td>354151.000000</td>\n",
       "      <td>2_&lt;=25</td>\n",
       "      <td>Y</td>\n",
       "      <td>B</td>\n",
       "      <td>Sales/Service</td>\n",
       "      <td>1Low</td>\n",
       "      <td>West</td>\n",
       "      <td>2.0</td>\n",
       "      <td>L</td>\n",
       "    </tr>\n",
       "    <tr>\n",
       "      <th>4</th>\n",
       "      <td>Y</td>\n",
       "      <td>F</td>\n",
       "      <td>2. Some College</td>\n",
       "      <td>11787.000000</td>\n",
       "      <td>1_Unk</td>\n",
       "      <td>Y</td>\n",
       "      <td>J</td>\n",
       "      <td>Sales/Service</td>\n",
       "      <td>1Low</td>\n",
       "      <td>South</td>\n",
       "      <td>7.0</td>\n",
       "      <td>H</td>\n",
       "    </tr>\n",
       "    <tr>\n",
       "      <th>...</th>\n",
       "      <td>...</td>\n",
       "      <td>...</td>\n",
       "      <td>...</td>\n",
       "      <td>...</td>\n",
       "      <td>...</td>\n",
       "      <td>...</td>\n",
       "      <td>...</td>\n",
       "      <td>...</td>\n",
       "      <td>...</td>\n",
       "      <td>...</td>\n",
       "      <td>...</td>\n",
       "      <td>...</td>\n",
       "    </tr>\n",
       "    <tr>\n",
       "      <th>39995</th>\n",
       "      <td>Y</td>\n",
       "      <td>F</td>\n",
       "      <td>3. Bach</td>\n",
       "      <td>199365.686355</td>\n",
       "      <td>7_&gt;65</td>\n",
       "      <td>Y</td>\n",
       "      <td>C</td>\n",
       "      <td>Retired</td>\n",
       "      <td>1Low</td>\n",
       "      <td>South</td>\n",
       "      <td>3.0</td>\n",
       "      <td>F</td>\n",
       "    </tr>\n",
       "    <tr>\n",
       "      <th>39996</th>\n",
       "      <td>N</td>\n",
       "      <td>F</td>\n",
       "      <td>1. HS</td>\n",
       "      <td>213596.000000</td>\n",
       "      <td>4_&lt;=45</td>\n",
       "      <td>N</td>\n",
       "      <td>I</td>\n",
       "      <td>Blue Collar</td>\n",
       "      <td>1Low</td>\n",
       "      <td>South</td>\n",
       "      <td>1.0</td>\n",
       "      <td>D</td>\n",
       "    </tr>\n",
       "    <tr>\n",
       "      <th>39997</th>\n",
       "      <td>Y</td>\n",
       "      <td>M</td>\n",
       "      <td>. &lt;HS</td>\n",
       "      <td>1347.000000</td>\n",
       "      <td>3_&lt;=35</td>\n",
       "      <td>Y</td>\n",
       "      <td>F</td>\n",
       "      <td>Sales/Service</td>\n",
       "      <td>1Low</td>\n",
       "      <td>Midwest</td>\n",
       "      <td>4.0</td>\n",
       "      <td>E</td>\n",
       "    </tr>\n",
       "    <tr>\n",
       "      <th>39998</th>\n",
       "      <td>N</td>\n",
       "      <td>M</td>\n",
       "      <td>1. HS</td>\n",
       "      <td>4221.000000</td>\n",
       "      <td>7_&gt;65</td>\n",
       "      <td>Y</td>\n",
       "      <td>E</td>\n",
       "      <td>Sales/Service</td>\n",
       "      <td>1Low</td>\n",
       "      <td>West</td>\n",
       "      <td>2.0</td>\n",
       "      <td>B</td>\n",
       "    </tr>\n",
       "    <tr>\n",
       "      <th>39999</th>\n",
       "      <td>N</td>\n",
       "      <td>F</td>\n",
       "      <td>3. Bach</td>\n",
       "      <td>8363.000000</td>\n",
       "      <td>7_&gt;65</td>\n",
       "      <td>Y</td>\n",
       "      <td>B</td>\n",
       "      <td>Retired</td>\n",
       "      <td>2Med</td>\n",
       "      <td>Northeast</td>\n",
       "      <td>1.0</td>\n",
       "      <td>J</td>\n",
       "    </tr>\n",
       "  </tbody>\n",
       "</table>\n",
       "<p>39420 rows × 12 columns</p>\n",
       "</div>"
      ],
      "text/plain": [
       "      flag gender        education      house_val     age online customer_psy  \\\n",
       "0        Y      M          4. Grad   75646.000000   1_Unk      N            B   \n",
       "1        N      F          3. Bach  213171.000000   7_>65      N            E   \n",
       "2        N      M  2. Some College  111147.000000  2_<=25      Y            C   \n",
       "3        Y      M  2. Some College  354151.000000  2_<=25      Y            B   \n",
       "4        Y      F  2. Some College   11787.000000   1_Unk      Y            J   \n",
       "...    ...    ...              ...            ...     ...    ...          ...   \n",
       "39995    Y      F          3. Bach  199365.686355   7_>65      Y            C   \n",
       "39996    N      F            1. HS  213596.000000  4_<=45      N            I   \n",
       "39997    Y      M            . <HS    1347.000000  3_<=35      Y            F   \n",
       "39998    N      M            1. HS    4221.000000   7_>65      Y            E   \n",
       "39999    N      F          3. Bach    8363.000000   7_>65      Y            B   \n",
       "\n",
       "          occupation mortgage     region  car_prob fam_income  \n",
       "0       Professional     1Low    Midwest       1.0          L  \n",
       "1       Professional     1Low  Northeast       3.0          G  \n",
       "2       Professional     1Low    Midwest       1.0          J  \n",
       "3      Sales/Service     1Low       West       2.0          L  \n",
       "4      Sales/Service     1Low      South       7.0          H  \n",
       "...              ...      ...        ...       ...        ...  \n",
       "39995        Retired     1Low      South       3.0          F  \n",
       "39996    Blue Collar     1Low      South       1.0          D  \n",
       "39997  Sales/Service     1Low    Midwest       4.0          E  \n",
       "39998  Sales/Service     1Low       West       2.0          B  \n",
       "39999        Retired     2Med  Northeast       1.0          J  \n",
       "\n",
       "[39420 rows x 12 columns]"
      ]
     },
     "execution_count": 13,
     "metadata": {},
     "output_type": "execute_result"
    }
   ],
   "source": [
    "new_df = df[(df['house_val'] < 1124010.78) & (df['house_val'] > -725279.41)]\n",
    "new_df"
   ]
  },
  {
   "cell_type": "markdown",
   "id": "0f70f59c",
   "metadata": {},
   "source": [
    " # Capping on Outliers"
   ]
  },
  {
   "cell_type": "code",
   "execution_count": 14,
   "id": "15f25fd5",
   "metadata": {},
   "outputs": [],
   "source": [
    "upper_limit = df['house_val'].mean() + 3*df['house_val'].std()\n",
    "lower_limit = df['house_val'].mean() - 3*df['house_val'].std()"
   ]
  },
  {
   "cell_type": "code",
   "execution_count": 15,
   "id": "e61402d7",
   "metadata": {},
   "outputs": [],
   "source": [
    "df['house_val'] = np.where(\n",
    "    df['house_val']>upper_limit,\n",
    "    upper_limit,\n",
    "    np.where(\n",
    "        df['house_val']<lower_limit,\n",
    "        lower_limit,\n",
    "        df['house_val']\n",
    "    )\n",
    ")"
   ]
  },
  {
   "cell_type": "code",
   "execution_count": 16,
   "id": "0886bb70",
   "metadata": {},
   "outputs": [
    {
     "data": {
      "text/plain": [
       "count    4.000000e+04\n",
       "mean     1.881645e+05\n",
       "std      2.139570e+05\n",
       "min      1.000000e+00\n",
       "25%      2.659500e+04\n",
       "50%      1.646600e+05\n",
       "75%      2.218008e+05\n",
       "max      1.124011e+06\n",
       "Name: house_val, dtype: float64"
      ]
     },
     "execution_count": 16,
     "metadata": {},
     "output_type": "execute_result"
    }
   ],
   "source": [
    "df['house_val'].describe()"
   ]
  }
 ],
 "metadata": {
  "kernelspec": {
   "display_name": "Python 3",
   "language": "python",
   "name": "python3"
  },
  "language_info": {
   "codemirror_mode": {
    "name": "ipython",
    "version": 3
   },
   "file_extension": ".py",
   "mimetype": "text/x-python",
   "name": "python",
   "nbconvert_exporter": "python",
   "pygments_lexer": "ipython3",
   "version": "3.8.8"
  }
 },
 "nbformat": 4,
 "nbformat_minor": 5
}
